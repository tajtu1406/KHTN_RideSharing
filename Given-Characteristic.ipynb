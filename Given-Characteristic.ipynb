{
 "cells": [
  {
   "cell_type": "markdown",
   "id": "68d7ac0d",
   "metadata": {},
   "source": [
    "# Đề tài: Nghiên cứu mô hình gợi ý Đi chung xe dựa vào học máy"
   ]
  },
  {
   "cell_type": "markdown",
   "id": "c8338d20",
   "metadata": {},
   "source": [
    "Nghiên cứu mô hình gợi ý đi chung xe sử dụng thuật toán Học máy để đề xuất người đi cùng chuyến đi dựa trên đặc điểm của người dùng và Ngưỡng thời gian người dùng(UTT)"
   ]
  },
  {
   "cell_type": "markdown",
   "id": "db2b41a3",
   "metadata": {},
   "source": [
    "# 1. Necessary imports"
   ]
  },
  {
   "cell_type": "code",
   "execution_count": 1,
   "id": "300d6c7f",
   "metadata": {},
   "outputs": [],
   "source": [
    "import pandas as pd\n",
    "import matplotlib.pyplot as plt\n",
    "import random\n",
    "from sklearn import svm\n",
    "import numpy as np\n",
    "import itertools\n",
    "from sklearn import svm, datasets\n",
    "import matplotlib.pyplot as plt\n",
    "from sklearn.model_selection import train_test_split\n",
    "from sklearn.preprocessing import StandardScaler\n",
    "from sklearn.metrics import classification_report, confusion_matrix\n",
    "plt.style.use('seaborn-poster')\n",
    "%matplotlib inline\n",
    "from sklearn.svm import SVC\n",
    "from sklearn.metrics import accuracy_score"
   ]
  },
  {
   "cell_type": "markdown",
   "id": "10feb33d",
   "metadata": {},
   "source": [
    "# 2. Load data from CSV File"
   ]
  },
  {
   "cell_type": "code",
   "execution_count": 2,
   "id": "aa15c295",
   "metadata": {},
   "outputs": [],
   "source": [
    "data = pd.read_csv('./data_given.csv')"
   ]
  },
  {
   "cell_type": "code",
   "execution_count": 3,
   "id": "0f72f76d",
   "metadata": {},
   "outputs": [
    {
     "data": {
      "text/html": [
       "<div>\n",
       "<style scoped>\n",
       "    .dataframe tbody tr th:only-of-type {\n",
       "        vertical-align: middle;\n",
       "    }\n",
       "\n",
       "    .dataframe tbody tr th {\n",
       "        vertical-align: top;\n",
       "    }\n",
       "\n",
       "    .dataframe thead th {\n",
       "        text-align: right;\n",
       "    }\n",
       "</style>\n",
       "<table border=\"1\" class=\"dataframe\">\n",
       "  <thead>\n",
       "    <tr style=\"text-align: right;\">\n",
       "      <th></th>\n",
       "      <th>Chatty</th>\n",
       "      <th>Safety</th>\n",
       "      <th>Punctuality</th>\n",
       "      <th>Friendliness</th>\n",
       "      <th>Comfortability</th>\n",
       "      <th>UTT</th>\n",
       "      <th>Class_Given</th>\n",
       "    </tr>\n",
       "  </thead>\n",
       "  <tbody>\n",
       "    <tr>\n",
       "      <th>0</th>\n",
       "      <td>0.0</td>\n",
       "      <td>0.0</td>\n",
       "      <td>3.0</td>\n",
       "      <td>0.0</td>\n",
       "      <td>4.0</td>\n",
       "      <td>15.0</td>\n",
       "      <td>Chatty</td>\n",
       "    </tr>\n",
       "    <tr>\n",
       "      <th>1</th>\n",
       "      <td>NaN</td>\n",
       "      <td>NaN</td>\n",
       "      <td>NaN</td>\n",
       "      <td>NaN</td>\n",
       "      <td>NaN</td>\n",
       "      <td>NaN</td>\n",
       "      <td>NaN</td>\n",
       "    </tr>\n",
       "    <tr>\n",
       "      <th>2</th>\n",
       "      <td>2.0</td>\n",
       "      <td>3.0</td>\n",
       "      <td>4.0</td>\n",
       "      <td>2.0</td>\n",
       "      <td>5.0</td>\n",
       "      <td>20.0</td>\n",
       "      <td>Safety</td>\n",
       "    </tr>\n",
       "    <tr>\n",
       "      <th>3</th>\n",
       "      <td>NaN</td>\n",
       "      <td>NaN</td>\n",
       "      <td>NaN</td>\n",
       "      <td>NaN</td>\n",
       "      <td>NaN</td>\n",
       "      <td>NaN</td>\n",
       "      <td>NaN</td>\n",
       "    </tr>\n",
       "    <tr>\n",
       "      <th>4</th>\n",
       "      <td>3.0</td>\n",
       "      <td>3.0</td>\n",
       "      <td>5.0</td>\n",
       "      <td>1.0</td>\n",
       "      <td>0.0</td>\n",
       "      <td>20.0</td>\n",
       "      <td>Comfortability</td>\n",
       "    </tr>\n",
       "    <tr>\n",
       "      <th>...</th>\n",
       "      <td>...</td>\n",
       "      <td>...</td>\n",
       "      <td>...</td>\n",
       "      <td>...</td>\n",
       "      <td>...</td>\n",
       "      <td>...</td>\n",
       "      <td>...</td>\n",
       "    </tr>\n",
       "    <tr>\n",
       "      <th>39994</th>\n",
       "      <td>4.0</td>\n",
       "      <td>4.0</td>\n",
       "      <td>1.0</td>\n",
       "      <td>2.0</td>\n",
       "      <td>1.0</td>\n",
       "      <td>20.0</td>\n",
       "      <td>NaN</td>\n",
       "    </tr>\n",
       "    <tr>\n",
       "      <th>39995</th>\n",
       "      <td>NaN</td>\n",
       "      <td>NaN</td>\n",
       "      <td>NaN</td>\n",
       "      <td>NaN</td>\n",
       "      <td>NaN</td>\n",
       "      <td>NaN</td>\n",
       "      <td>NaN</td>\n",
       "    </tr>\n",
       "    <tr>\n",
       "      <th>39996</th>\n",
       "      <td>2.0</td>\n",
       "      <td>1.0</td>\n",
       "      <td>5.0</td>\n",
       "      <td>0.0</td>\n",
       "      <td>0.0</td>\n",
       "      <td>25.0</td>\n",
       "      <td>NaN</td>\n",
       "    </tr>\n",
       "    <tr>\n",
       "      <th>39997</th>\n",
       "      <td>NaN</td>\n",
       "      <td>NaN</td>\n",
       "      <td>NaN</td>\n",
       "      <td>NaN</td>\n",
       "      <td>NaN</td>\n",
       "      <td>NaN</td>\n",
       "      <td>NaN</td>\n",
       "    </tr>\n",
       "    <tr>\n",
       "      <th>39998</th>\n",
       "      <td>0.0</td>\n",
       "      <td>3.0</td>\n",
       "      <td>4.0</td>\n",
       "      <td>2.0</td>\n",
       "      <td>2.0</td>\n",
       "      <td>15.0</td>\n",
       "      <td>NaN</td>\n",
       "    </tr>\n",
       "  </tbody>\n",
       "</table>\n",
       "<p>39999 rows × 7 columns</p>\n",
       "</div>"
      ],
      "text/plain": [
       "       Chatty  Safety  Punctuality  Friendliness  Comfortability   UTT  \\\n",
       "0         0.0     0.0          3.0           0.0             4.0  15.0   \n",
       "1         NaN     NaN          NaN           NaN             NaN   NaN   \n",
       "2         2.0     3.0          4.0           2.0             5.0  20.0   \n",
       "3         NaN     NaN          NaN           NaN             NaN   NaN   \n",
       "4         3.0     3.0          5.0           1.0             0.0  20.0   \n",
       "...       ...     ...          ...           ...             ...   ...   \n",
       "39994     4.0     4.0          1.0           2.0             1.0  20.0   \n",
       "39995     NaN     NaN          NaN           NaN             NaN   NaN   \n",
       "39996     2.0     1.0          5.0           0.0             0.0  25.0   \n",
       "39997     NaN     NaN          NaN           NaN             NaN   NaN   \n",
       "39998     0.0     3.0          4.0           2.0             2.0  15.0   \n",
       "\n",
       "          Class_Given  \n",
       "0              Chatty  \n",
       "1                 NaN  \n",
       "2              Safety  \n",
       "3                 NaN  \n",
       "4      Comfortability  \n",
       "...               ...  \n",
       "39994             NaN  \n",
       "39995             NaN  \n",
       "39996             NaN  \n",
       "39997             NaN  \n",
       "39998             NaN  \n",
       "\n",
       "[39999 rows x 7 columns]"
      ]
     },
     "execution_count": 3,
     "metadata": {},
     "output_type": "execute_result"
    }
   ],
   "source": [
    "data"
   ]
  },
  {
   "cell_type": "code",
   "execution_count": 4,
   "id": "f62d9d0d",
   "metadata": {},
   "outputs": [
    {
     "data": {
      "text/html": [
       "<div>\n",
       "<style scoped>\n",
       "    .dataframe tbody tr th:only-of-type {\n",
       "        vertical-align: middle;\n",
       "    }\n",
       "\n",
       "    .dataframe tbody tr th {\n",
       "        vertical-align: top;\n",
       "    }\n",
       "\n",
       "    .dataframe thead th {\n",
       "        text-align: right;\n",
       "    }\n",
       "</style>\n",
       "<table border=\"1\" class=\"dataframe\">\n",
       "  <thead>\n",
       "    <tr style=\"text-align: right;\">\n",
       "      <th></th>\n",
       "      <th>Chatty</th>\n",
       "      <th>Safety</th>\n",
       "      <th>Punctuality</th>\n",
       "      <th>Friendliness</th>\n",
       "      <th>Comfortability</th>\n",
       "      <th>UTT</th>\n",
       "      <th>Class_Given</th>\n",
       "    </tr>\n",
       "  </thead>\n",
       "  <tbody>\n",
       "    <tr>\n",
       "      <th>0</th>\n",
       "      <td>0.0</td>\n",
       "      <td>0.0</td>\n",
       "      <td>3.0</td>\n",
       "      <td>0.0</td>\n",
       "      <td>4.0</td>\n",
       "      <td>15.0</td>\n",
       "      <td>Chatty</td>\n",
       "    </tr>\n",
       "    <tr>\n",
       "      <th>2</th>\n",
       "      <td>2.0</td>\n",
       "      <td>3.0</td>\n",
       "      <td>4.0</td>\n",
       "      <td>2.0</td>\n",
       "      <td>5.0</td>\n",
       "      <td>20.0</td>\n",
       "      <td>Safety</td>\n",
       "    </tr>\n",
       "    <tr>\n",
       "      <th>4</th>\n",
       "      <td>3.0</td>\n",
       "      <td>3.0</td>\n",
       "      <td>5.0</td>\n",
       "      <td>1.0</td>\n",
       "      <td>0.0</td>\n",
       "      <td>20.0</td>\n",
       "      <td>Comfortability</td>\n",
       "    </tr>\n",
       "    <tr>\n",
       "      <th>6</th>\n",
       "      <td>2.0</td>\n",
       "      <td>5.0</td>\n",
       "      <td>3.0</td>\n",
       "      <td>3.0</td>\n",
       "      <td>3.0</td>\n",
       "      <td>10.0</td>\n",
       "      <td>Comfortability</td>\n",
       "    </tr>\n",
       "    <tr>\n",
       "      <th>8</th>\n",
       "      <td>5.0</td>\n",
       "      <td>4.0</td>\n",
       "      <td>3.0</td>\n",
       "      <td>3.0</td>\n",
       "      <td>5.0</td>\n",
       "      <td>30.0</td>\n",
       "      <td>Comfortability</td>\n",
       "    </tr>\n",
       "    <tr>\n",
       "      <th>...</th>\n",
       "      <td>...</td>\n",
       "      <td>...</td>\n",
       "      <td>...</td>\n",
       "      <td>...</td>\n",
       "      <td>...</td>\n",
       "      <td>...</td>\n",
       "      <td>...</td>\n",
       "    </tr>\n",
       "    <tr>\n",
       "      <th>36742</th>\n",
       "      <td>2.0</td>\n",
       "      <td>2.0</td>\n",
       "      <td>5.0</td>\n",
       "      <td>4.0</td>\n",
       "      <td>5.0</td>\n",
       "      <td>10.0</td>\n",
       "      <td>Chatty</td>\n",
       "    </tr>\n",
       "    <tr>\n",
       "      <th>36744</th>\n",
       "      <td>3.0</td>\n",
       "      <td>1.0</td>\n",
       "      <td>1.0</td>\n",
       "      <td>1.0</td>\n",
       "      <td>4.0</td>\n",
       "      <td>10.0</td>\n",
       "      <td>Chatty</td>\n",
       "    </tr>\n",
       "    <tr>\n",
       "      <th>36746</th>\n",
       "      <td>4.0</td>\n",
       "      <td>5.0</td>\n",
       "      <td>1.0</td>\n",
       "      <td>3.0</td>\n",
       "      <td>5.0</td>\n",
       "      <td>20.0</td>\n",
       "      <td>Chatty</td>\n",
       "    </tr>\n",
       "    <tr>\n",
       "      <th>36748</th>\n",
       "      <td>1.0</td>\n",
       "      <td>0.0</td>\n",
       "      <td>1.0</td>\n",
       "      <td>0.0</td>\n",
       "      <td>0.0</td>\n",
       "      <td>30.0</td>\n",
       "      <td>Chatty</td>\n",
       "    </tr>\n",
       "    <tr>\n",
       "      <th>36750</th>\n",
       "      <td>0.0</td>\n",
       "      <td>5.0</td>\n",
       "      <td>1.0</td>\n",
       "      <td>1.0</td>\n",
       "      <td>1.0</td>\n",
       "      <td>10.0</td>\n",
       "      <td>Chatty</td>\n",
       "    </tr>\n",
       "  </tbody>\n",
       "</table>\n",
       "<p>18376 rows × 7 columns</p>\n",
       "</div>"
      ],
      "text/plain": [
       "       Chatty  Safety  Punctuality  Friendliness  Comfortability   UTT  \\\n",
       "0         0.0     0.0          3.0           0.0             4.0  15.0   \n",
       "2         2.0     3.0          4.0           2.0             5.0  20.0   \n",
       "4         3.0     3.0          5.0           1.0             0.0  20.0   \n",
       "6         2.0     5.0          3.0           3.0             3.0  10.0   \n",
       "8         5.0     4.0          3.0           3.0             5.0  30.0   \n",
       "...       ...     ...          ...           ...             ...   ...   \n",
       "36742     2.0     2.0          5.0           4.0             5.0  10.0   \n",
       "36744     3.0     1.0          1.0           1.0             4.0  10.0   \n",
       "36746     4.0     5.0          1.0           3.0             5.0  20.0   \n",
       "36748     1.0     0.0          1.0           0.0             0.0  30.0   \n",
       "36750     0.0     5.0          1.0           1.0             1.0  10.0   \n",
       "\n",
       "          Class_Given  \n",
       "0              Chatty  \n",
       "2              Safety  \n",
       "4      Comfortability  \n",
       "6      Comfortability  \n",
       "8      Comfortability  \n",
       "...               ...  \n",
       "36742          Chatty  \n",
       "36744          Chatty  \n",
       "36746          Chatty  \n",
       "36748          Chatty  \n",
       "36750          Chatty  \n",
       "\n",
       "[18376 rows x 7 columns]"
      ]
     },
     "execution_count": 4,
     "metadata": {},
     "output_type": "execute_result"
    }
   ],
   "source": [
    "drop_DF = data.dropna()\n",
    "drop_DF"
   ]
  },
  {
   "cell_type": "code",
   "execution_count": 5,
   "id": "91ef5f41",
   "metadata": {},
   "outputs": [
    {
     "data": {
      "text/html": [
       "<div>\n",
       "<style scoped>\n",
       "    .dataframe tbody tr th:only-of-type {\n",
       "        vertical-align: middle;\n",
       "    }\n",
       "\n",
       "    .dataframe tbody tr th {\n",
       "        vertical-align: top;\n",
       "    }\n",
       "\n",
       "    .dataframe thead th {\n",
       "        text-align: right;\n",
       "    }\n",
       "</style>\n",
       "<table border=\"1\" class=\"dataframe\">\n",
       "  <thead>\n",
       "    <tr style=\"text-align: right;\">\n",
       "      <th></th>\n",
       "      <th>Chatty</th>\n",
       "      <th>Safety</th>\n",
       "      <th>Punctuality</th>\n",
       "      <th>Friendliness</th>\n",
       "      <th>Comfortability</th>\n",
       "      <th>UTT</th>\n",
       "      <th>Class_Given</th>\n",
       "    </tr>\n",
       "  </thead>\n",
       "  <tbody>\n",
       "    <tr>\n",
       "      <th>0</th>\n",
       "      <td>0.0</td>\n",
       "      <td>0.0</td>\n",
       "      <td>3.0</td>\n",
       "      <td>0.0</td>\n",
       "      <td>4.0</td>\n",
       "      <td>15.0</td>\n",
       "      <td>Chatty</td>\n",
       "    </tr>\n",
       "    <tr>\n",
       "      <th>2</th>\n",
       "      <td>2.0</td>\n",
       "      <td>3.0</td>\n",
       "      <td>4.0</td>\n",
       "      <td>2.0</td>\n",
       "      <td>5.0</td>\n",
       "      <td>20.0</td>\n",
       "      <td>Safety</td>\n",
       "    </tr>\n",
       "    <tr>\n",
       "      <th>4</th>\n",
       "      <td>3.0</td>\n",
       "      <td>3.0</td>\n",
       "      <td>5.0</td>\n",
       "      <td>1.0</td>\n",
       "      <td>0.0</td>\n",
       "      <td>20.0</td>\n",
       "      <td>Comfortability</td>\n",
       "    </tr>\n",
       "    <tr>\n",
       "      <th>6</th>\n",
       "      <td>2.0</td>\n",
       "      <td>5.0</td>\n",
       "      <td>3.0</td>\n",
       "      <td>3.0</td>\n",
       "      <td>3.0</td>\n",
       "      <td>10.0</td>\n",
       "      <td>Comfortability</td>\n",
       "    </tr>\n",
       "    <tr>\n",
       "      <th>8</th>\n",
       "      <td>5.0</td>\n",
       "      <td>4.0</td>\n",
       "      <td>3.0</td>\n",
       "      <td>3.0</td>\n",
       "      <td>5.0</td>\n",
       "      <td>30.0</td>\n",
       "      <td>Comfortability</td>\n",
       "    </tr>\n",
       "    <tr>\n",
       "      <th>...</th>\n",
       "      <td>...</td>\n",
       "      <td>...</td>\n",
       "      <td>...</td>\n",
       "      <td>...</td>\n",
       "      <td>...</td>\n",
       "      <td>...</td>\n",
       "      <td>...</td>\n",
       "    </tr>\n",
       "    <tr>\n",
       "      <th>36742</th>\n",
       "      <td>2.0</td>\n",
       "      <td>2.0</td>\n",
       "      <td>5.0</td>\n",
       "      <td>4.0</td>\n",
       "      <td>5.0</td>\n",
       "      <td>10.0</td>\n",
       "      <td>Chatty</td>\n",
       "    </tr>\n",
       "    <tr>\n",
       "      <th>36744</th>\n",
       "      <td>3.0</td>\n",
       "      <td>1.0</td>\n",
       "      <td>1.0</td>\n",
       "      <td>1.0</td>\n",
       "      <td>4.0</td>\n",
       "      <td>10.0</td>\n",
       "      <td>Chatty</td>\n",
       "    </tr>\n",
       "    <tr>\n",
       "      <th>36746</th>\n",
       "      <td>4.0</td>\n",
       "      <td>5.0</td>\n",
       "      <td>1.0</td>\n",
       "      <td>3.0</td>\n",
       "      <td>5.0</td>\n",
       "      <td>20.0</td>\n",
       "      <td>Chatty</td>\n",
       "    </tr>\n",
       "    <tr>\n",
       "      <th>36748</th>\n",
       "      <td>1.0</td>\n",
       "      <td>0.0</td>\n",
       "      <td>1.0</td>\n",
       "      <td>0.0</td>\n",
       "      <td>0.0</td>\n",
       "      <td>30.0</td>\n",
       "      <td>Chatty</td>\n",
       "    </tr>\n",
       "    <tr>\n",
       "      <th>36750</th>\n",
       "      <td>0.0</td>\n",
       "      <td>5.0</td>\n",
       "      <td>1.0</td>\n",
       "      <td>1.0</td>\n",
       "      <td>1.0</td>\n",
       "      <td>10.0</td>\n",
       "      <td>Chatty</td>\n",
       "    </tr>\n",
       "  </tbody>\n",
       "</table>\n",
       "<p>18376 rows × 7 columns</p>\n",
       "</div>"
      ],
      "text/plain": [
       "       Chatty  Safety  Punctuality  Friendliness  Comfortability   UTT  \\\n",
       "0         0.0     0.0          3.0           0.0             4.0  15.0   \n",
       "2         2.0     3.0          4.0           2.0             5.0  20.0   \n",
       "4         3.0     3.0          5.0           1.0             0.0  20.0   \n",
       "6         2.0     5.0          3.0           3.0             3.0  10.0   \n",
       "8         5.0     4.0          3.0           3.0             5.0  30.0   \n",
       "...       ...     ...          ...           ...             ...   ...   \n",
       "36742     2.0     2.0          5.0           4.0             5.0  10.0   \n",
       "36744     3.0     1.0          1.0           1.0             4.0  10.0   \n",
       "36746     4.0     5.0          1.0           3.0             5.0  20.0   \n",
       "36748     1.0     0.0          1.0           0.0             0.0  30.0   \n",
       "36750     0.0     5.0          1.0           1.0             1.0  10.0   \n",
       "\n",
       "          Class_Given  \n",
       "0              Chatty  \n",
       "2              Safety  \n",
       "4      Comfortability  \n",
       "6      Comfortability  \n",
       "8      Comfortability  \n",
       "...               ...  \n",
       "36742          Chatty  \n",
       "36744          Chatty  \n",
       "36746          Chatty  \n",
       "36748          Chatty  \n",
       "36750          Chatty  \n",
       "\n",
       "[18376 rows x 7 columns]"
      ]
     },
     "execution_count": 5,
     "metadata": {},
     "output_type": "execute_result"
    }
   ],
   "source": [
    "drop_DF"
   ]
  },
  {
   "cell_type": "markdown",
   "id": "7aea58b6",
   "metadata": {},
   "source": [
    "# 3. Distribution of the classes"
   ]
  },
  {
   "cell_type": "code",
   "execution_count": 6,
   "id": "9be68e0f",
   "metadata": {},
   "outputs": [
    {
     "data": {
      "text/plain": [
       "<AxesSubplot:xlabel='Punctuality', ylabel='Friendliness'>"
      ]
     },
     "execution_count": 6,
     "metadata": {},
     "output_type": "execute_result"
    },
    {
     "data": {
      "image/png": "[encoded data removed]",
      "text/plain": [
       "<Figure size 432x288 with 1 Axes>"
      ]
     },
     "metadata": {
      "needs_background": "light"
     },
     "output_type": "display_data"
    }
   ],
   "source": [
    "chatty_df = drop_DF[drop_DF['Class_Given']== 'Chatty'][0:200]\n",
    "safety_df = drop_DF[drop_DF['Class_Given']== 'Safety'][0:200]\n",
    "punctuality_df = drop_DF[drop_DF['Class_Given']== 'Punctuality'][0:200]\n",
    "friendliness_df = drop_DF[drop_DF['Class_Given']== 'Friendliness'][0:200]\n",
    "comfortability_df = drop_DF[drop_DF['Class_Given']== 'Comfortability'][0:200]\n",
    "\n",
    "axes = chatty_df.plot(kind='scatter', x='Punctuality', y='Friendliness', color='blue',label='Class')\n",
    "safety_df.plot(kind='scatter', x='Punctuality', y='Friendliness', color='red',label='Class', ax=axes)\n"
   ]
  },
  {
   "cell_type": "code",
   "execution_count": 7,
   "id": "f291559b",
   "metadata": {},
   "outputs": [
    {
     "name": "stdout",
     "output_type": "stream",
     "text": [
      "16244\n",
      "92\n",
      "928\n",
      "816\n",
      "296\n"
     ]
    }
   ],
   "source": [
    "count_chatty = 0\n",
    "count_safety = 0\n",
    "count_punctuality = 0\n",
    "count_friendliness = 0\n",
    "count_comfortability = 0\n",
    "for i in drop_DF['Class_Given']:\n",
    "  if i == \"Chatty\":\n",
    "    count_chatty = count_chatty + 1\n",
    "  if i == \"Safety\":\n",
    "    count_safety = count_safety + 1\n",
    "  if i == \"Punctuality\":\n",
    "    count_punctuality = count_punctuality + 1\n",
    "  if i == \"Friendliness\":\n",
    "    count_friendliness = count_friendliness + 1\n",
    "  if i == \"Comfortability\":\n",
    "    count_comfortability = count_comfortability + 1\n",
    "print(count_chatty)\n",
    "print(count_safety)\n",
    "print(count_punctuality)\n",
    "print(count_friendliness)\n",
    "print(count_comfortability)"
   ]
  },
  {
   "cell_type": "markdown",
   "id": "bd72c3d1",
   "metadata": {},
   "source": [
    "# 4. Remove unwanted columns"
   ]
  },
  {
   "cell_type": "code",
   "execution_count": 8,
   "id": "3c0c8017",
   "metadata": {},
   "outputs": [],
   "source": [
    "drop_DF.columns\n",
    "\n",
    "feature_df = drop_DF[['Chatty', 'Safety', 'Punctuality', 'Friendliness', 'Comfortability',\n",
    "       'UTT']]\n",
    "X = np.asarray(feature_df)\n",
    "y = np.asarray(drop_DF['Class_Given'])"
   ]
  },
  {
   "cell_type": "code",
   "execution_count": 9,
   "id": "34e8c6a0",
   "metadata": {},
   "outputs": [
    {
     "data": {
      "text/plain": [
       "array([[ 0.,  0.,  3.,  0.,  4., 15.],\n",
       "       [ 2.,  3.,  4.,  2.,  5., 20.],\n",
       "       [ 3.,  3.,  5.,  1.,  0., 20.],\n",
       "       [ 2.,  5.,  3.,  3.,  3., 10.],\n",
       "       [ 5.,  4.,  3.,  3.,  5., 30.]])"
      ]
     },
     "execution_count": 9,
     "metadata": {},
     "output_type": "execute_result"
    }
   ],
   "source": [
    "X[0:5]"
   ]
  },
  {
   "cell_type": "code",
   "execution_count": 10,
   "id": "21af3b99",
   "metadata": {},
   "outputs": [
    {
     "data": {
      "text/plain": [
       "array(['Chatty', 'Safety', 'Comfortability', 'Comfortability',\n",
       "       'Comfortability'], dtype=object)"
      ]
     },
     "execution_count": 10,
     "metadata": {},
     "output_type": "execute_result"
    }
   ],
   "source": [
    "y[0:5]"
   ]
  },
  {
   "cell_type": "markdown",
   "id": "b511f0bc",
   "metadata": {},
   "source": [
    "# 5. Divide the data as Train/Test dataset"
   ]
  },
  {
   "cell_type": "code",
   "execution_count": 11,
   "id": "c7da73ce",
   "metadata": {},
   "outputs": [
    {
     "data": {
      "text/plain": [
       "(3676,)"
      ]
     },
     "execution_count": 11,
     "metadata": {},
     "output_type": "execute_result"
    }
   ],
   "source": [
    "X_train, X_test, y_train, y_test = train_test_split(X, y, test_size=0.2, random_state=4)\n",
    "\n",
    "# 14700 x 6\n",
    "X_train.shape\n",
    "\n",
    "# 14700 x 1\n",
    "y_train.shape\n",
    "\n",
    "# 3676 x 6\n",
    "X_test.shape\n",
    "\n",
    "# 3676 x 1\n",
    "y_test.shape"
   ]
  },
  {
   "cell_type": "markdown",
   "id": "b5f30d5f",
   "metadata": {},
   "source": [
    "# 6. Modeling (SVM with Scikit-learn)"
   ]
  },
  {
   "cell_type": "code",
   "execution_count": 12,
   "id": "3cde6610",
   "metadata": {},
   "outputs": [
    {
     "data": {
      "text/plain": [
       "SVC(C=2, gamma='auto', kernel='linear')"
      ]
     },
     "execution_count": 12,
     "metadata": {},
     "output_type": "execute_result"
    }
   ],
   "source": [
    "classifier = svm.SVC(kernel='linear', gamma='auto', C=2)\n",
    "classifier.fit(X_train, y_train)"
   ]
  },
  {
   "cell_type": "code",
   "execution_count": 13,
   "id": "fee63a82",
   "metadata": {},
   "outputs": [],
   "source": [
    "y_predict = classifier.predict(X_test)"
   ]
  },
  {
   "cell_type": "code",
   "execution_count": 14,
   "id": "5f29e6e5",
   "metadata": {},
   "outputs": [
    {
     "data": {
      "text/plain": [
       "array(['Chatty', 'Chatty', 'Chatty', ..., 'Chatty', 'Chatty', 'Chatty'],\n",
       "      dtype=object)"
      ]
     },
     "execution_count": 14,
     "metadata": {},
     "output_type": "execute_result"
    }
   ],
   "source": [
    "y_predict"
   ]
  },
  {
   "cell_type": "code",
   "execution_count": 15,
   "id": "846a7798",
   "metadata": {},
   "outputs": [
    {
     "name": "stdout",
     "output_type": "stream",
     "text": [
      "3676\n"
     ]
    }
   ],
   "source": [
    "count = 0\n",
    "for i in y_predict:\n",
    "  if i == \"Chatty\":\n",
    "    count = count + 1\n",
    "print(count)"
   ]
  },
  {
   "cell_type": "markdown",
   "id": "2da46228",
   "metadata": {},
   "source": [
    "# 7. Result"
   ]
  },
  {
   "cell_type": "code",
   "execution_count": 16,
   "id": "3ad42a28",
   "metadata": {},
   "outputs": [
    {
     "name": "stdout",
     "output_type": "stream",
     "text": [
      "                precision    recall  f1-score   support\n",
      "\n",
      "        Chatty       0.88      1.00      0.93      3221\n",
      "Comfortability       0.00      0.00      0.00        61\n",
      "  Friendliness       0.00      0.00      0.00       185\n",
      "   Punctuality       0.00      0.00      0.00       197\n",
      "        Safety       0.00      0.00      0.00        12\n",
      "\n",
      "      accuracy                           0.88      3676\n",
      "     macro avg       0.18      0.20      0.19      3676\n",
      "  weighted avg       0.77      0.88      0.82      3676\n",
      "\n"
     ]
    },
    {
     "name": "stderr",
     "output_type": "stream",
     "text": [
      "c:\\users\\ltduo\\appdata\\local\\programs\\python\\python39\\lib\\site-packages\\sklearn\\metrics\\_classification.py:1318: UndefinedMetricWarning: Precision and F-score are ill-defined and being set to 0.0 in labels with no predicted samples. Use `zero_division` parameter to control this behavior.\n",
      "  _warn_prf(average, modifier, msg_start, len(result))\n",
      "c:\\users\\ltduo\\appdata\\local\\programs\\python\\python39\\lib\\site-packages\\sklearn\\metrics\\_classification.py:1318: UndefinedMetricWarning: Precision and F-score are ill-defined and being set to 0.0 in labels with no predicted samples. Use `zero_division` parameter to control this behavior.\n",
      "  _warn_prf(average, modifier, msg_start, len(result))\n",
      "c:\\users\\ltduo\\appdata\\local\\programs\\python\\python39\\lib\\site-packages\\sklearn\\metrics\\_classification.py:1318: UndefinedMetricWarning: Precision and F-score are ill-defined and being set to 0.0 in labels with no predicted samples. Use `zero_division` parameter to control this behavior.\n",
      "  _warn_prf(average, modifier, msg_start, len(result))\n"
     ]
    }
   ],
   "source": [
    "from sklearn.metrics import classification_report\n",
    "print(classification_report(y_test, y_predict))"
   ]
  },
  {
   "cell_type": "code",
   "execution_count": null,
   "id": "d8bbd631",
   "metadata": {},
   "outputs": [],
   "source": []
  }
 ],
 "metadata": {
  "kernelspec": {
   "display_name": "Python 3",
   "language": "python",
   "name": "python3"
  },
  "language_info": {
   "codemirror_mode": {
    "name": "ipython",
    "version": 3
   },
   "file_extension": ".py",
   "mimetype": "text/x-python",
   "name": "python",
   "nbconvert_exporter": "python",
   "pygments_lexer": "ipython3",
   "version": "3.9.4"
  }
 },
 "nbformat": 4,
 "nbformat_minor": 5
}
