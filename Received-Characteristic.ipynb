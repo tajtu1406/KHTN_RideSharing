{
 "cells": [
  {
   "cell_type": "markdown",
   "id": "ebb70632",
   "metadata": {},
   "source": [
    "# 1. Necessary imports"
   ]
  },
  {
   "cell_type": "code",
   "execution_count": 7,
   "id": "4bea3476",
   "metadata": {},
   "outputs": [],
   "source": [
    "import pandas as pd\n",
    "import matplotlib.pyplot as plt\n",
    "import random\n",
    "from sklearn import svm\n",
    "import numpy as np\n",
    "import itertools\n",
    "from sklearn import svm, datasets\n",
    "import matplotlib.pyplot as plt\n",
    "from sklearn.model_selection import train_test_split\n",
    "from sklearn.preprocessing import StandardScaler\n",
    "from sklearn.metrics import classification_report, confusion_matrix\n",
    "plt.style.use('seaborn-poster')\n",
    "%matplotlib inline\n",
    "from sklearn.svm import SVC\n",
    "from sklearn.metrics import accuracy_score"
   ]
  },
  {
   "cell_type": "markdown",
   "id": "703f1105",
   "metadata": {},
   "source": [
    "# 2. Load data from CSV File"
   ]
  },
  {
   "cell_type": "code",
   "execution_count": 27,
   "id": "276a6d24",
   "metadata": {},
   "outputs": [],
   "source": [
    "data = pd.read_csv('./data_recieved.csv')"
   ]
  },
  {
   "cell_type": "code",
   "execution_count": 28,
   "id": "ca823dcc",
   "metadata": {},
   "outputs": [
    {
     "data": {
      "text/html": [
       "<div>\n",
       "<style scoped>\n",
       "    .dataframe tbody tr th:only-of-type {\n",
       "        vertical-align: middle;\n",
       "    }\n",
       "\n",
       "    .dataframe tbody tr th {\n",
       "        vertical-align: top;\n",
       "    }\n",
       "\n",
       "    .dataframe thead th {\n",
       "        text-align: right;\n",
       "    }\n",
       "</style>\n",
       "<table border=\"1\" class=\"dataframe\">\n",
       "  <thead>\n",
       "    <tr style=\"text-align: right;\">\n",
       "      <th></th>\n",
       "      <th>Chatty</th>\n",
       "      <th>Safety</th>\n",
       "      <th>Punctuality</th>\n",
       "      <th>Friendliness</th>\n",
       "      <th>Comfortability</th>\n",
       "      <th>UTT</th>\n",
       "      <th>Class_Received</th>\n",
       "    </tr>\n",
       "  </thead>\n",
       "  <tbody>\n",
       "    <tr>\n",
       "      <th>0</th>\n",
       "      <td>0</td>\n",
       "      <td>0</td>\n",
       "      <td>3</td>\n",
       "      <td>0</td>\n",
       "      <td>4</td>\n",
       "      <td>15</td>\n",
       "      <td>Chatty</td>\n",
       "    </tr>\n",
       "    <tr>\n",
       "      <th>1</th>\n",
       "      <td>2</td>\n",
       "      <td>3</td>\n",
       "      <td>4</td>\n",
       "      <td>2</td>\n",
       "      <td>5</td>\n",
       "      <td>20</td>\n",
       "      <td>Safety</td>\n",
       "    </tr>\n",
       "    <tr>\n",
       "      <th>2</th>\n",
       "      <td>3</td>\n",
       "      <td>3</td>\n",
       "      <td>5</td>\n",
       "      <td>1</td>\n",
       "      <td>0</td>\n",
       "      <td>20</td>\n",
       "      <td>Safety</td>\n",
       "    </tr>\n",
       "    <tr>\n",
       "      <th>3</th>\n",
       "      <td>2</td>\n",
       "      <td>5</td>\n",
       "      <td>3</td>\n",
       "      <td>3</td>\n",
       "      <td>3</td>\n",
       "      <td>10</td>\n",
       "      <td>Comfortability</td>\n",
       "    </tr>\n",
       "    <tr>\n",
       "      <th>4</th>\n",
       "      <td>5</td>\n",
       "      <td>4</td>\n",
       "      <td>3</td>\n",
       "      <td>3</td>\n",
       "      <td>5</td>\n",
       "      <td>30</td>\n",
       "      <td>Comfortability</td>\n",
       "    </tr>\n",
       "    <tr>\n",
       "      <th>...</th>\n",
       "      <td>...</td>\n",
       "      <td>...</td>\n",
       "      <td>...</td>\n",
       "      <td>...</td>\n",
       "      <td>...</td>\n",
       "      <td>...</td>\n",
       "      <td>...</td>\n",
       "    </tr>\n",
       "    <tr>\n",
       "      <th>19995</th>\n",
       "      <td>0</td>\n",
       "      <td>3</td>\n",
       "      <td>3</td>\n",
       "      <td>2</td>\n",
       "      <td>1</td>\n",
       "      <td>30</td>\n",
       "      <td>NaN</td>\n",
       "    </tr>\n",
       "    <tr>\n",
       "      <th>19996</th>\n",
       "      <td>2</td>\n",
       "      <td>1</td>\n",
       "      <td>5</td>\n",
       "      <td>3</td>\n",
       "      <td>1</td>\n",
       "      <td>25</td>\n",
       "      <td>NaN</td>\n",
       "    </tr>\n",
       "    <tr>\n",
       "      <th>19997</th>\n",
       "      <td>4</td>\n",
       "      <td>4</td>\n",
       "      <td>1</td>\n",
       "      <td>2</td>\n",
       "      <td>1</td>\n",
       "      <td>20</td>\n",
       "      <td>NaN</td>\n",
       "    </tr>\n",
       "    <tr>\n",
       "      <th>19998</th>\n",
       "      <td>2</td>\n",
       "      <td>1</td>\n",
       "      <td>5</td>\n",
       "      <td>0</td>\n",
       "      <td>0</td>\n",
       "      <td>25</td>\n",
       "      <td>NaN</td>\n",
       "    </tr>\n",
       "    <tr>\n",
       "      <th>19999</th>\n",
       "      <td>0</td>\n",
       "      <td>3</td>\n",
       "      <td>4</td>\n",
       "      <td>2</td>\n",
       "      <td>2</td>\n",
       "      <td>15</td>\n",
       "      <td>NaN</td>\n",
       "    </tr>\n",
       "  </tbody>\n",
       "</table>\n",
       "<p>20000 rows × 7 columns</p>\n",
       "</div>"
      ],
      "text/plain": [
       "       Chatty  Safety  Punctuality  Friendliness  Comfortability  UTT  \\\n",
       "0           0       0            3             0               4   15   \n",
       "1           2       3            4             2               5   20   \n",
       "2           3       3            5             1               0   20   \n",
       "3           2       5            3             3               3   10   \n",
       "4           5       4            3             3               5   30   \n",
       "...       ...     ...          ...           ...             ...  ...   \n",
       "19995       0       3            3             2               1   30   \n",
       "19996       2       1            5             3               1   25   \n",
       "19997       4       4            1             2               1   20   \n",
       "19998       2       1            5             0               0   25   \n",
       "19999       0       3            4             2               2   15   \n",
       "\n",
       "       Class_Received  \n",
       "0              Chatty  \n",
       "1              Safety  \n",
       "2              Safety  \n",
       "3      Comfortability  \n",
       "4      Comfortability  \n",
       "...               ...  \n",
       "19995             NaN  \n",
       "19996             NaN  \n",
       "19997             NaN  \n",
       "19998             NaN  \n",
       "19999             NaN  \n",
       "\n",
       "[20000 rows x 7 columns]"
      ]
     },
     "execution_count": 28,
     "metadata": {},
     "output_type": "execute_result"
    }
   ],
   "source": [
    "data"
   ]
  },
  {
   "cell_type": "code",
   "execution_count": 29,
   "id": "1dfe7764",
   "metadata": {},
   "outputs": [
    {
     "data": {
      "text/html": [
       "<div>\n",
       "<style scoped>\n",
       "    .dataframe tbody tr th:only-of-type {\n",
       "        vertical-align: middle;\n",
       "    }\n",
       "\n",
       "    .dataframe tbody tr th {\n",
       "        vertical-align: top;\n",
       "    }\n",
       "\n",
       "    .dataframe thead th {\n",
       "        text-align: right;\n",
       "    }\n",
       "</style>\n",
       "<table border=\"1\" class=\"dataframe\">\n",
       "  <thead>\n",
       "    <tr style=\"text-align: right;\">\n",
       "      <th></th>\n",
       "      <th>Chatty</th>\n",
       "      <th>Safety</th>\n",
       "      <th>Punctuality</th>\n",
       "      <th>Friendliness</th>\n",
       "      <th>Comfortability</th>\n",
       "      <th>UTT</th>\n",
       "      <th>Class_Received</th>\n",
       "    </tr>\n",
       "  </thead>\n",
       "  <tbody>\n",
       "    <tr>\n",
       "      <th>0</th>\n",
       "      <td>0</td>\n",
       "      <td>0</td>\n",
       "      <td>3</td>\n",
       "      <td>0</td>\n",
       "      <td>4</td>\n",
       "      <td>15</td>\n",
       "      <td>Chatty</td>\n",
       "    </tr>\n",
       "    <tr>\n",
       "      <th>1</th>\n",
       "      <td>2</td>\n",
       "      <td>3</td>\n",
       "      <td>4</td>\n",
       "      <td>2</td>\n",
       "      <td>5</td>\n",
       "      <td>20</td>\n",
       "      <td>Safety</td>\n",
       "    </tr>\n",
       "    <tr>\n",
       "      <th>2</th>\n",
       "      <td>3</td>\n",
       "      <td>3</td>\n",
       "      <td>5</td>\n",
       "      <td>1</td>\n",
       "      <td>0</td>\n",
       "      <td>20</td>\n",
       "      <td>Safety</td>\n",
       "    </tr>\n",
       "    <tr>\n",
       "      <th>3</th>\n",
       "      <td>2</td>\n",
       "      <td>5</td>\n",
       "      <td>3</td>\n",
       "      <td>3</td>\n",
       "      <td>3</td>\n",
       "      <td>10</td>\n",
       "      <td>Comfortability</td>\n",
       "    </tr>\n",
       "    <tr>\n",
       "      <th>4</th>\n",
       "      <td>5</td>\n",
       "      <td>4</td>\n",
       "      <td>3</td>\n",
       "      <td>3</td>\n",
       "      <td>5</td>\n",
       "      <td>30</td>\n",
       "      <td>Comfortability</td>\n",
       "    </tr>\n",
       "    <tr>\n",
       "      <th>...</th>\n",
       "      <td>...</td>\n",
       "      <td>...</td>\n",
       "      <td>...</td>\n",
       "      <td>...</td>\n",
       "      <td>...</td>\n",
       "      <td>...</td>\n",
       "      <td>...</td>\n",
       "    </tr>\n",
       "    <tr>\n",
       "      <th>17919</th>\n",
       "      <td>1</td>\n",
       "      <td>5</td>\n",
       "      <td>4</td>\n",
       "      <td>2</td>\n",
       "      <td>2</td>\n",
       "      <td>20</td>\n",
       "      <td>Chatty</td>\n",
       "    </tr>\n",
       "    <tr>\n",
       "      <th>17920</th>\n",
       "      <td>0</td>\n",
       "      <td>0</td>\n",
       "      <td>5</td>\n",
       "      <td>4</td>\n",
       "      <td>5</td>\n",
       "      <td>25</td>\n",
       "      <td>Chatty</td>\n",
       "    </tr>\n",
       "    <tr>\n",
       "      <th>17921</th>\n",
       "      <td>1</td>\n",
       "      <td>5</td>\n",
       "      <td>1</td>\n",
       "      <td>1</td>\n",
       "      <td>4</td>\n",
       "      <td>30</td>\n",
       "      <td>Chatty</td>\n",
       "    </tr>\n",
       "    <tr>\n",
       "      <th>17922</th>\n",
       "      <td>5</td>\n",
       "      <td>5</td>\n",
       "      <td>3</td>\n",
       "      <td>2</td>\n",
       "      <td>1</td>\n",
       "      <td>20</td>\n",
       "      <td>Chatty</td>\n",
       "    </tr>\n",
       "    <tr>\n",
       "      <th>17923</th>\n",
       "      <td>0</td>\n",
       "      <td>3</td>\n",
       "      <td>3</td>\n",
       "      <td>2</td>\n",
       "      <td>1</td>\n",
       "      <td>20</td>\n",
       "      <td>Chatty</td>\n",
       "    </tr>\n",
       "  </tbody>\n",
       "</table>\n",
       "<p>17924 rows × 7 columns</p>\n",
       "</div>"
      ],
      "text/plain": [
       "       Chatty  Safety  Punctuality  Friendliness  Comfortability  UTT  \\\n",
       "0           0       0            3             0               4   15   \n",
       "1           2       3            4             2               5   20   \n",
       "2           3       3            5             1               0   20   \n",
       "3           2       5            3             3               3   10   \n",
       "4           5       4            3             3               5   30   \n",
       "...       ...     ...          ...           ...             ...  ...   \n",
       "17919       1       5            4             2               2   20   \n",
       "17920       0       0            5             4               5   25   \n",
       "17921       1       5            1             1               4   30   \n",
       "17922       5       5            3             2               1   20   \n",
       "17923       0       3            3             2               1   20   \n",
       "\n",
       "       Class_Received  \n",
       "0              Chatty  \n",
       "1              Safety  \n",
       "2              Safety  \n",
       "3      Comfortability  \n",
       "4      Comfortability  \n",
       "...               ...  \n",
       "17919          Chatty  \n",
       "17920          Chatty  \n",
       "17921          Chatty  \n",
       "17922          Chatty  \n",
       "17923          Chatty  \n",
       "\n",
       "[17924 rows x 7 columns]"
      ]
     },
     "execution_count": 29,
     "metadata": {},
     "output_type": "execute_result"
    }
   ],
   "source": [
    "drop_DF = data.dropna()\n",
    "drop_DF"
   ]
  },
  {
   "cell_type": "code",
   "execution_count": 30,
   "id": "9000e845",
   "metadata": {},
   "outputs": [
    {
     "data": {
      "text/html": [
       "<div>\n",
       "<style scoped>\n",
       "    .dataframe tbody tr th:only-of-type {\n",
       "        vertical-align: middle;\n",
       "    }\n",
       "\n",
       "    .dataframe tbody tr th {\n",
       "        vertical-align: top;\n",
       "    }\n",
       "\n",
       "    .dataframe thead th {\n",
       "        text-align: right;\n",
       "    }\n",
       "</style>\n",
       "<table border=\"1\" class=\"dataframe\">\n",
       "  <thead>\n",
       "    <tr style=\"text-align: right;\">\n",
       "      <th></th>\n",
       "      <th>Chatty</th>\n",
       "      <th>Safety</th>\n",
       "      <th>Punctuality</th>\n",
       "      <th>Friendliness</th>\n",
       "      <th>Comfortability</th>\n",
       "      <th>UTT</th>\n",
       "      <th>Class_Received</th>\n",
       "    </tr>\n",
       "  </thead>\n",
       "  <tbody>\n",
       "    <tr>\n",
       "      <th>0</th>\n",
       "      <td>0</td>\n",
       "      <td>0</td>\n",
       "      <td>3</td>\n",
       "      <td>0</td>\n",
       "      <td>4</td>\n",
       "      <td>15</td>\n",
       "      <td>Chatty</td>\n",
       "    </tr>\n",
       "    <tr>\n",
       "      <th>1</th>\n",
       "      <td>2</td>\n",
       "      <td>3</td>\n",
       "      <td>4</td>\n",
       "      <td>2</td>\n",
       "      <td>5</td>\n",
       "      <td>20</td>\n",
       "      <td>Safety</td>\n",
       "    </tr>\n",
       "    <tr>\n",
       "      <th>2</th>\n",
       "      <td>3</td>\n",
       "      <td>3</td>\n",
       "      <td>5</td>\n",
       "      <td>1</td>\n",
       "      <td>0</td>\n",
       "      <td>20</td>\n",
       "      <td>Safety</td>\n",
       "    </tr>\n",
       "    <tr>\n",
       "      <th>3</th>\n",
       "      <td>2</td>\n",
       "      <td>5</td>\n",
       "      <td>3</td>\n",
       "      <td>3</td>\n",
       "      <td>3</td>\n",
       "      <td>10</td>\n",
       "      <td>Comfortability</td>\n",
       "    </tr>\n",
       "    <tr>\n",
       "      <th>4</th>\n",
       "      <td>5</td>\n",
       "      <td>4</td>\n",
       "      <td>3</td>\n",
       "      <td>3</td>\n",
       "      <td>5</td>\n",
       "      <td>30</td>\n",
       "      <td>Comfortability</td>\n",
       "    </tr>\n",
       "    <tr>\n",
       "      <th>...</th>\n",
       "      <td>...</td>\n",
       "      <td>...</td>\n",
       "      <td>...</td>\n",
       "      <td>...</td>\n",
       "      <td>...</td>\n",
       "      <td>...</td>\n",
       "      <td>...</td>\n",
       "    </tr>\n",
       "    <tr>\n",
       "      <th>17919</th>\n",
       "      <td>1</td>\n",
       "      <td>5</td>\n",
       "      <td>4</td>\n",
       "      <td>2</td>\n",
       "      <td>2</td>\n",
       "      <td>20</td>\n",
       "      <td>Chatty</td>\n",
       "    </tr>\n",
       "    <tr>\n",
       "      <th>17920</th>\n",
       "      <td>0</td>\n",
       "      <td>0</td>\n",
       "      <td>5</td>\n",
       "      <td>4</td>\n",
       "      <td>5</td>\n",
       "      <td>25</td>\n",
       "      <td>Chatty</td>\n",
       "    </tr>\n",
       "    <tr>\n",
       "      <th>17921</th>\n",
       "      <td>1</td>\n",
       "      <td>5</td>\n",
       "      <td>1</td>\n",
       "      <td>1</td>\n",
       "      <td>4</td>\n",
       "      <td>30</td>\n",
       "      <td>Chatty</td>\n",
       "    </tr>\n",
       "    <tr>\n",
       "      <th>17922</th>\n",
       "      <td>5</td>\n",
       "      <td>5</td>\n",
       "      <td>3</td>\n",
       "      <td>2</td>\n",
       "      <td>1</td>\n",
       "      <td>20</td>\n",
       "      <td>Chatty</td>\n",
       "    </tr>\n",
       "    <tr>\n",
       "      <th>17923</th>\n",
       "      <td>0</td>\n",
       "      <td>3</td>\n",
       "      <td>3</td>\n",
       "      <td>2</td>\n",
       "      <td>1</td>\n",
       "      <td>20</td>\n",
       "      <td>Chatty</td>\n",
       "    </tr>\n",
       "  </tbody>\n",
       "</table>\n",
       "<p>17924 rows × 7 columns</p>\n",
       "</div>"
      ],
      "text/plain": [
       "       Chatty  Safety  Punctuality  Friendliness  Comfortability  UTT  \\\n",
       "0           0       0            3             0               4   15   \n",
       "1           2       3            4             2               5   20   \n",
       "2           3       3            5             1               0   20   \n",
       "3           2       5            3             3               3   10   \n",
       "4           5       4            3             3               5   30   \n",
       "...       ...     ...          ...           ...             ...  ...   \n",
       "17919       1       5            4             2               2   20   \n",
       "17920       0       0            5             4               5   25   \n",
       "17921       1       5            1             1               4   30   \n",
       "17922       5       5            3             2               1   20   \n",
       "17923       0       3            3             2               1   20   \n",
       "\n",
       "       Class_Received  \n",
       "0              Chatty  \n",
       "1              Safety  \n",
       "2              Safety  \n",
       "3      Comfortability  \n",
       "4      Comfortability  \n",
       "...               ...  \n",
       "17919          Chatty  \n",
       "17920          Chatty  \n",
       "17921          Chatty  \n",
       "17922          Chatty  \n",
       "17923          Chatty  \n",
       "\n",
       "[17924 rows x 7 columns]"
      ]
     },
     "execution_count": 30,
     "metadata": {},
     "output_type": "execute_result"
    }
   ],
   "source": [
    "drop_DF"
   ]
  },
  {
   "cell_type": "code",
   "execution_count": 31,
   "id": "74b2ec40",
   "metadata": {},
   "outputs": [
    {
     "name": "stdout",
     "output_type": "stream",
     "text": [
      "64\n",
      "66.52067347825036\n",
      "0.9621069158436208\n",
      "0.5717927467009977\n",
      "32\n",
      "43.45112196480086\n",
      "0.7364596943186588\n",
      "0.7408511111766498\n"
     ]
    }
   ],
   "source": [
    "br = np.array([3,4,3,3,4])\n",
    "r1 = np.array([4,4,3,5,3])\n",
    "r2 = np.array([2,1,5,1,1])\n",
    "import math\n",
    " \n",
    "def dotproduct(v1, v2):\n",
    "  return sum((a*b) for a, b in zip(v1, v2))\n",
    " \n",
    "def length(v):\n",
    "  return math.sqrt(dotproduct(v, v))\n",
    " \n",
    "def cos(v1, v2):\n",
    "  return math.cos(dotproduct(v1, v2) / (length(v1) * length(v2)))\n",
    "print(dotproduct(br,r1)) #7.681145747868608   8.660254037844387\n",
    "print(length(br)*length(r1))\n",
    "print(dotproduct(br,r1)/(length(br)*length(r1)))\n",
    "print(math.cos(dotproduct(br,r1)/(length(br)*length(r1))))\n",
    "print(dotproduct(br,r2)) #7.681145747868608   8.660254037844387\n",
    "print(length(br)*length(r2))\n",
    "print(dotproduct(br,r2)/(length(br)*length(r2)))\n",
    "print(math.cos(dotproduct(br,r2)/(length(br)*length(r2))))"
   ]
  },
  {
   "cell_type": "markdown",
   "id": "038dab35",
   "metadata": {},
   "source": [
    "# 3. Distribution of the classes"
   ]
  },
  {
   "cell_type": "code",
   "execution_count": 32,
   "id": "f72120d6",
   "metadata": {},
   "outputs": [
    {
     "data": {
      "text/plain": [
       "<AxesSubplot:xlabel='Punctuality', ylabel='Friendliness'>"
      ]
     },
     "execution_count": 32,
     "metadata": {},
     "output_type": "execute_result"
    },
    {
     "data": {
      "image/png": "[encoded data removed]",
      "text/plain": [
       "<Figure size 432x288 with 1 Axes>"
      ]
     },
     "metadata": {
      "needs_background": "light"
     },
     "output_type": "display_data"
    }
   ],
   "source": [
    "chatty_df = drop_DF[drop_DF['Class_Received']== 'Chatty'][0:200]\n",
    "safety_df = drop_DF[drop_DF['Class_Received']== 'Safety'][0:200]\n",
    "punctuality_df = drop_DF[drop_DF['Class_Received']== 'Punctuality'][0:200]\n",
    "friendliness_df = drop_DF[drop_DF['Class_Received']== 'Friendliness'][0:200]\n",
    "comfortability_df = drop_DF[drop_DF['Class_Received']== 'Comfortability'][0:200]\n",
    "\n",
    "axes = chatty_df.plot(kind='scatter', x='Punctuality', y='Friendliness', color='blue',label='Class')\n",
    "safety_df.plot(kind='scatter', x='Punctuality', y='Friendliness', color='red',label='Class', ax=axes)\n"
   ]
  },
  {
   "cell_type": "code",
   "execution_count": 33,
   "id": "b581119a",
   "metadata": {},
   "outputs": [
    {
     "name": "stdout",
     "output_type": "stream",
     "text": [
      "7381\n",
      "978\n",
      "8949\n",
      "0\n",
      "616\n"
     ]
    }
   ],
   "source": [
    "count_chatty = 0\n",
    "count_safety = 0\n",
    "count_punctuality = 0\n",
    "count_friendliness = 0\n",
    "count_comfortability = 0\n",
    "for i in drop_DF['Class_Received']:\n",
    "  if i == \"Chatty\":\n",
    "    count_chatty = count_chatty + 1\n",
    "  if i == \"Safety\":\n",
    "    count_safety = count_safety + 1\n",
    "  if i == \"Punctuality\":\n",
    "    count_punctuality = count_punctuality + 1\n",
    "  if i == \"Friendliness\":\n",
    "    count_friendliness = count_friendliness + 1\n",
    "  if i == \"Comfortability\":\n",
    "    count_comfortability = count_comfortability + 1\n",
    "print(count_chatty)\n",
    "print(count_safety)\n",
    "print(count_punctuality)\n",
    "print(count_friendliness)\n",
    "print(count_comfortability)"
   ]
  },
  {
   "cell_type": "markdown",
   "id": "a0add2aa",
   "metadata": {},
   "source": [
    "# 4. Remove unwanted columns"
   ]
  },
  {
   "cell_type": "code",
   "execution_count": 34,
   "id": "49f67f9f",
   "metadata": {},
   "outputs": [],
   "source": [
    "drop_DF.columns\n",
    "\n",
    "feature_df = drop_DF[['Chatty', 'Safety', 'Punctuality', 'Friendliness', 'Comfortability',\n",
    "       'UTT']]\n",
    "X = np.asarray(feature_df)\n",
    "y = np.asarray(drop_DF['Class_Received'])"
   ]
  },
  {
   "cell_type": "code",
   "execution_count": 35,
   "id": "115424bb",
   "metadata": {},
   "outputs": [
    {
     "data": {
      "text/plain": [
       "array([[ 0,  0,  3,  0,  4, 15],\n",
       "       [ 2,  3,  4,  2,  5, 20],\n",
       "       [ 3,  3,  5,  1,  0, 20],\n",
       "       [ 2,  5,  3,  3,  3, 10],\n",
       "       [ 5,  4,  3,  3,  5, 30]], dtype=int64)"
      ]
     },
     "execution_count": 35,
     "metadata": {},
     "output_type": "execute_result"
    }
   ],
   "source": [
    "X[0:5]"
   ]
  },
  {
   "cell_type": "code",
   "execution_count": 36,
   "id": "f4f5856b",
   "metadata": {},
   "outputs": [
    {
     "data": {
      "text/plain": [
       "array(['Chatty', 'Safety', 'Safety', 'Comfortability', 'Comfortability'],\n",
       "      dtype=object)"
      ]
     },
     "execution_count": 36,
     "metadata": {},
     "output_type": "execute_result"
    }
   ],
   "source": [
    "y[0:5]"
   ]
  },
  {
   "cell_type": "markdown",
   "id": "511c3ea4",
   "metadata": {},
   "source": [
    "# 5. Divide the data as Train/Test dataset"
   ]
  },
  {
   "cell_type": "code",
   "execution_count": 37,
   "id": "57db0f1f",
   "metadata": {},
   "outputs": [
    {
     "data": {
      "text/plain": [
       "(3585,)"
      ]
     },
     "execution_count": 37,
     "metadata": {},
     "output_type": "execute_result"
    }
   ],
   "source": [
    "X_train, X_test, y_train, y_test = train_test_split(X, y, test_size=0.2, random_state=4)\n",
    "\n",
    "# 14339 x 6\n",
    "X_train.shape\n",
    "\n",
    "# 14339 x 1\n",
    "y_train.shape\n",
    "\n",
    "# 3585 x 6\n",
    "X_test.shape\n",
    "\n",
    "# 3585 x 1\n",
    "y_test.shape"
   ]
  },
  {
   "cell_type": "markdown",
   "id": "02dcf4ad",
   "metadata": {},
   "source": [
    "# 6. Modeling (SVM with Scikit-learn)"
   ]
  },
  {
   "cell_type": "code",
   "execution_count": 38,
   "id": "c2915fbf",
   "metadata": {},
   "outputs": [
    {
     "data": {
      "text/plain": [
       "SVC(C=2, gamma='auto', kernel='linear')"
      ]
     },
     "execution_count": 38,
     "metadata": {},
     "output_type": "execute_result"
    }
   ],
   "source": [
    "classifier = svm.SVC(kernel='linear', gamma='auto', C=2)\n",
    "classifier.fit(X_train, y_train)"
   ]
  },
  {
   "cell_type": "code",
   "execution_count": 39,
   "id": "8c5f1d7e",
   "metadata": {},
   "outputs": [],
   "source": [
    "y_predict = classifier.predict(X_test)"
   ]
  },
  {
   "cell_type": "code",
   "execution_count": 40,
   "id": "43487b30",
   "metadata": {},
   "outputs": [
    {
     "data": {
      "text/plain": [
       "array(['Punctuality', 'Punctuality', 'Punctuality', ..., 'Punctuality',\n",
       "       'Punctuality', 'Punctuality'], dtype=object)"
      ]
     },
     "execution_count": 40,
     "metadata": {},
     "output_type": "execute_result"
    }
   ],
   "source": [
    "y_predict"
   ]
  },
  {
   "cell_type": "markdown",
   "id": "9d132d7d",
   "metadata": {},
   "source": [
    "# 7. Result"
   ]
  },
  {
   "cell_type": "code",
   "execution_count": 41,
   "id": "4917edc7",
   "metadata": {},
   "outputs": [
    {
     "name": "stdout",
     "output_type": "stream",
     "text": [
      "                precision    recall  f1-score   support\n",
      "\n",
      "        Chatty       0.00      0.00      0.00      1499\n",
      "Comfortability       0.00      0.00      0.00       125\n",
      "   Punctuality       0.49      1.00      0.66      1755\n",
      "        Safety       0.00      0.00      0.00       206\n",
      "\n",
      "      accuracy                           0.49      3585\n",
      "     macro avg       0.12      0.25      0.16      3585\n",
      "  weighted avg       0.24      0.49      0.32      3585\n",
      "\n"
     ]
    },
    {
     "name": "stderr",
     "output_type": "stream",
     "text": [
      "c:\\users\\ltduo\\appdata\\local\\programs\\python\\python39\\lib\\site-packages\\sklearn\\metrics\\_classification.py:1318: UndefinedMetricWarning: Precision and F-score are ill-defined and being set to 0.0 in labels with no predicted samples. Use `zero_division` parameter to control this behavior.\n",
      "  _warn_prf(average, modifier, msg_start, len(result))\n",
      "c:\\users\\ltduo\\appdata\\local\\programs\\python\\python39\\lib\\site-packages\\sklearn\\metrics\\_classification.py:1318: UndefinedMetricWarning: Precision and F-score are ill-defined and being set to 0.0 in labels with no predicted samples. Use `zero_division` parameter to control this behavior.\n",
      "  _warn_prf(average, modifier, msg_start, len(result))\n",
      "c:\\users\\ltduo\\appdata\\local\\programs\\python\\python39\\lib\\site-packages\\sklearn\\metrics\\_classification.py:1318: UndefinedMetricWarning: Precision and F-score are ill-defined and being set to 0.0 in labels with no predicted samples. Use `zero_division` parameter to control this behavior.\n",
      "  _warn_prf(average, modifier, msg_start, len(result))\n"
     ]
    }
   ],
   "source": [
    "from sklearn.metrics import classification_report\n",
    "print(classification_report(y_test, y_predict))"
   ]
  },
  {
   "cell_type": "code",
   "execution_count": null,
   "id": "e8e5121f",
   "metadata": {},
   "outputs": [],
   "source": []
  }
 ],
 "metadata": {
  "kernelspec": {
   "display_name": "Python 3",
   "language": "python",
   "name": "python3"
  },
  "language_info": {
   "codemirror_mode": {
    "name": "ipython",
    "version": 3
   },
   "file_extension": ".py",
   "mimetype": "text/x-python",
   "name": "python",
   "nbconvert_exporter": "python",
   "pygments_lexer": "ipython3",
   "version": "3.9.4"
  }
 },
 "nbformat": 4,
 "nbformat_minor": 5
}
